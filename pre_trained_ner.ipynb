{
 "cells": [
  {
   "cell_type": "code",
   "execution_count": 4,
   "metadata": {},
   "outputs": [
    {
     "name": "stdout",
     "output_type": "stream",
     "text": [
      "Sentence: Apple Inc. is planning to open a new store in New York City.\n",
      "Named Entities: [('Apple Inc.', 'ORG'), ('New York City', 'GPE')]\n",
      "\n",
      "Sentence: I live in London and work for Google.\n",
      "Named Entities: [('London', 'GPE'), ('Google', 'ORG')]\n",
      "\n",
      "Sentence: John Smith is a professor at Stanford University.\n",
      "Named Entities: [('John Smith', 'PERSON'), ('Stanford University', 'ORG')]\n",
      "\n"
     ]
    }
   ],
   "source": [
    "import spacy\n",
    "\n",
    "# Load the pre-trained NER model\n",
    "nlp = spacy.load(\"en_core_web_sm\")\n",
    "\n",
    "# Example sentences\n",
    "sentences = [\n",
    "    \"Apple Inc. is planning to open a new store in New York City.\",\n",
    "    \"I live in London and work for Google.\",\n",
    "    \"John Smith is a professor at Stanford University.\"\n",
    "]\n",
    "\n",
    "# Process each sentence and extract named entities\n",
    "for sentence in sentences:\n",
    "    doc = nlp(sentence)\n",
    "    entities = [(ent.text, ent.label_) for ent in doc.ents]\n",
    "    \n",
    "    # Print the named entities for each sentence\n",
    "    print(\"Sentence:\", sentence)\n",
    "    print(\"Named Entities:\", entities)\n",
    "    print()\n"
   ]
  },
  {
   "cell_type": "code",
   "execution_count": null,
   "metadata": {},
   "outputs": [],
   "source": []
  }
 ],
 "metadata": {
  "kernelspec": {
   "display_name": "Python 3",
   "language": "python",
   "name": "python3"
  },
  "language_info": {
   "codemirror_mode": {
    "name": "ipython",
    "version": 3
   },
   "file_extension": ".py",
   "mimetype": "text/x-python",
   "name": "python",
   "nbconvert_exporter": "python",
   "pygments_lexer": "ipython3",
   "version": "3.8.6"
  },
  "orig_nbformat": 4
 },
 "nbformat": 4,
 "nbformat_minor": 2
}
